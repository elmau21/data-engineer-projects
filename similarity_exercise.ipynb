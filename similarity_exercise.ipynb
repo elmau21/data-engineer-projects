{
  "cells": [
    {
      "cell_type": "markdown",
      "metadata": {
        "id": "view-in-github",
        "colab_type": "text"
      },
      "source": [
        "<a href=\"https://colab.research.google.com/github/elmau21/data-engineer-projects/blob/master/similarity_exercise.ipynb\" target=\"_parent\"><img src=\"https://colab.research.google.com/assets/colab-badge.svg\" alt=\"Open In Colab\"/></a>"
      ]
    },
    {
      "cell_type": "markdown",
      "metadata": {
        "id": "JkGr_IbYqCx7"
      },
      "source": [
        "# Similarity measures"
      ]
    },
    {
      "cell_type": "markdown",
      "metadata": {
        "id": "4nnst56tqCx8"
      },
      "source": [
        "The following workbook is based on p. 236 of the text, exercises 2.124–127, regarding \"similarity\" of two sets.\n"
      ]
    },
    {
      "cell_type": "markdown",
      "metadata": {
        "id": "eNbdNWz0qCyC"
      },
      "source": [
        "## Definitions of similarity"
      ]
    },
    {
      "cell_type": "markdown",
      "metadata": {
        "id": "0viwWHRzqCyC"
      },
      "source": [
        "Given two sets $A$ and $B$:\n",
        "* the _cardinality measure_ of similarity is $|A \\cap B|$\n",
        "* the _Jaccard coefficient_ of similarity is $\\frac{|A \\cap B|}{|A \\cup B|}$"
      ]
    },
    {
      "cell_type": "markdown",
      "metadata": {
        "id": "LnOUOZ4qqCyC"
      },
      "source": [
        "**Question:** In your own words, explain why these two measures can represent the similarity of two sets, and explain the difference between the two."
      ]
    },
    {
      "cell_type": "markdown",
      "metadata": {
        "id": "XXVzG2YFqCyC"
      },
      "source": [
        "The cardinality measure of similarity gives the number of items that are elements of both sets whereas the Jaccard coefficient gives the ratio of the number of items that are elements of both sets to the total number of unique elements in both sets. These two measures both represent similarity because they both give an idea of the quantity of elements that are members of both sets. \n",
        "\n",
        "The cardinality measures gives the items that are elements of both sets without context regarding the sets themselves. The Jaccard coefficient gives a better idea of what each set looks like, in terms of similarity, by providing the context of all items that are elements of both sets. However, the Jaccard coefficient does not provide the number of elements the sets have in common. "
      ]
    },
    {
      "cell_type": "markdown",
      "metadata": {
        "id": "39KXdhR6qCyD"
      },
      "source": []
    },
    {
      "cell_type": "markdown",
      "metadata": {
        "id": "MmG9aFEbqCyD"
      },
      "source": [
        "## Similarity as a metric"
      ]
    },
    {
      "cell_type": "markdown",
      "metadata": {
        "id": "WVelfAGyqCyD"
      },
      "source": [
        "In class we defined a metric, which is a distance function that obeys some nice, standard properties.  See the writeup distributed in Week 2 notes for more information about metrics.\n",
        "\n",
        "Similarity, as a measure, is essentially the opposite of \"distance\":  two sets that are similar are not very \"far apart\".\n",
        "\n",
        "In fact, it turns out we can formalize this mathematically.  Consider the function\n",
        "$$ \\mathrm{dist}(A, B) = 1 - \\frac{|A \\cap B|}{|A \\cup B|}.$$\n",
        "Intuitively, this is the \"opposite\" of the Jaccard coefficient:  Think of the coefficient as a percentage, because it's a fraction between $0$ and $1$; if the Jaccard coefficient of $A$ and $B$ says something like the sets are \"20% similar,\" then $\\mathrm{dist}(A, B)$ would say they are \"80% different.\"\n",
        "\n",
        "This function is in fact a metric on sets.  Below, justify this by arguing that this function satisfies the four properties that a metric must satisfy (non-negativity, identity, symmetry, and triangle inequality)."
      ]
    },
    {
      "cell_type": "markdown",
      "metadata": {
        "id": "auyh3Mn2qCyD"
      },
      "source": []
    },
    {
      "cell_type": "markdown",
      "metadata": {
        "id": "XgrGry0NqCyE"
      },
      "source": [
        "## Computing the two measures"
      ]
    },
    {
      "cell_type": "markdown",
      "metadata": {
        "id": "PO0uYniFqCyE"
      },
      "source": [
        "Implement a python function `sim_card` that returns the similarity of two sets using the cardinality measure:"
      ]
    },
    {
      "cell_type": "code",
      "execution_count": null,
      "metadata": {
        "collapsed": true,
        "id": "eBVT1hHbqCyE"
      },
      "outputs": [],
      "source": [
        "def sim_card():\n",
        "    cardinalidad = \n",
        "    return cardinalidad\n",
        "    pass"
      ]
    },
    {
      "cell_type": "markdown",
      "metadata": {
        "id": "c4_u-4yfqCyE"
      },
      "source": [
        "Implement a python function `sim_jaccard` that returns the similarity of two sets using the Jaccard coefficient:"
      ]
    },
    {
      "cell_type": "code",
      "execution_count": null,
      "metadata": {
        "collapsed": true,
        "id": "uL0BMkhyqCyF"
      },
      "outputs": [],
      "source": [
        "def sim_jaccard():\n",
        "    int_cardinalidad = sim_card()\n",
        "    union_cardinalidad = \n",
        "    return int_cardinalidad / union_cardinalidad\n",
        "    pass"
      ]
    },
    {
      "cell_type": "markdown",
      "metadata": {
        "id": "n2_f-3EhqCyF"
      },
      "source": [
        "You can use this space to test your functions.  Just be sure to hit the \"run\" button on the blocks above after you make changes, so that calling them below will invoke the correct code."
      ]
    },
    {
      "cell_type": "code",
      "execution_count": null,
      "metadata": {
        "id": "sZ0mRsh6qCyF",
        "outputId": "428e73ea-7ab0-4c04-ddac-2dffada30946"
      },
      "outputs": [
        {
          "name": "stdout",
          "output_type": "stream",
          "text": [
            "The cardinality of jeffrey and jeff is 6  and the jaccard coefficient is 0.6\n",
            "The cardinality of kevin and kev is 3  and the jaccard coefficient is 1.0\n",
            "The cardinality of kevin and kev is 0  and the jaccard coefficient is 0.0\n"
          ]
        }
      ],
      "source": [
        "jeff = [1, 2, 3, 4, 5, 6]\n",
        "jeffrey = [1, 2, 3, 4, 5, 6, 7, 8, 9, 10]\n",
        "\n",
        "jeff = set(jeff)\n",
        "jeffrey = set(jeffrey)\n",
        "\n",
        "kevin = [11, 12, 13]\n",
        "kev = [11, 12, 13]\n",
        "\n",
        "kevin = set(kevin)\n",
        "kev = set(kev)\n",
        "\n",
        "a = sim_card(jeffrey, jeff) \n",
        "b = sim_jaccard(jeffrey, jeff)\n",
        "\n",
        "c = sim_card(kevin, kev)  \n",
        "d = sim_jaccard(kevin, kev)\n",
        "\n",
        "e = sim_card(kev, jeff)  \n",
        "f = sim_jaccard(kev, jeff) \n",
        "\n",
        "print(\"The cardinality of jeffrey and jeff is\", a, \" and the jaccard coefficient is\", b)\n",
        "print(\"The cardinality of kevin and kev is\", c, \" and the jaccard coefficient is\", d)\n",
        "print(\"The cardinality of kevin and kev is\", e, \" and the jaccard coefficient is\", f)"
      ]
    }
  ],
  "metadata": {
    "kernelspec": {
      "display_name": "Python 3.10.2 64-bit",
      "language": "python",
      "name": "python3"
    },
    "language_info": {
      "codemirror_mode": {
        "name": "ipython",
        "version": 3
      },
      "file_extension": ".py",
      "mimetype": "text/x-python",
      "name": "python",
      "nbconvert_exporter": "python",
      "pygments_lexer": "ipython3",
      "version": "3.10.2"
    },
    "vscode": {
      "interpreter": {
        "hash": "1d560eb1adf81cf6d0d2c29d887570bf5a31c4d06a1010589a8ded32ced535b4"
      }
    },
    "colab": {
      "provenance": [],
      "include_colab_link": true
    }
  },
  "nbformat": 4,
  "nbformat_minor": 0
}