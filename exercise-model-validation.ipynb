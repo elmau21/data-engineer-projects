{
 "cells": [
  {
   "cell_type": "markdown",
   "id": "1028e801",
   "metadata": {
    "papermill": {
     "duration": 0.004731,
     "end_time": "2022-10-21T08:35:46.751065",
     "exception": false,
     "start_time": "2022-10-21T08:35:46.746334",
     "status": "completed"
    },
    "tags": []
   },
   "source": [
    "**This notebook is an exercise in the [Introduction to Machine Learning](https://www.kaggle.com/learn/intro-to-machine-learning) course.  You can reference the tutorial at [this link](https://www.kaggle.com/dansbecker/model-validation).**\n",
    "\n",
    "---\n"
   ]
  },
  {
   "cell_type": "markdown",
   "id": "6daea21c",
   "metadata": {
    "papermill": {
     "duration": 0.004005,
     "end_time": "2022-10-21T08:35:46.759068",
     "exception": false,
     "start_time": "2022-10-21T08:35:46.755063",
     "status": "completed"
    },
    "tags": []
   },
   "source": [
    "## Recap\n",
    "You've built a model. In this exercise you will test how good your model is.\n",
    "\n",
    "Run the cell below to set up your coding environment where the previous exercise left off."
   ]
  },
  {
   "cell_type": "code",
   "execution_count": 1,
   "id": "31275774",
   "metadata": {
    "execution": {
     "iopub.execute_input": "2022-10-21T08:35:46.769453Z",
     "iopub.status.busy": "2022-10-21T08:35:46.769009Z",
     "iopub.status.idle": "2022-10-21T08:35:47.888214Z",
     "shell.execute_reply": "2022-10-21T08:35:47.886711Z"
    },
    "papermill": {
     "duration": 1.127432,
     "end_time": "2022-10-21T08:35:47.891158",
     "exception": false,
     "start_time": "2022-10-21T08:35:46.763726",
     "status": "completed"
    },
    "tags": []
   },
   "outputs": [
    {
     "name": "stdout",
     "output_type": "stream",
     "text": [
      "First in-sample predictions: [208500. 181500. 223500. 140000. 250000.]\n",
      "Actual target values for those homes: [208500, 181500, 223500, 140000, 250000]\n",
      "Setup Complete\n"
     ]
    }
   ],
   "source": [
    "# Code you have previously used to load data\n",
    "import pandas as pd\n",
    "from sklearn.tree import DecisionTreeRegressor\n",
    "\n",
    "# Path of the file to read\n",
    "iowa_file_path = '../input/home-data-for-ml-course/train.csv'\n",
    "\n",
    "home_data = pd.read_csv(iowa_file_path)\n",
    "y = home_data.SalePrice\n",
    "feature_columns = ['LotArea', 'YearBuilt', '1stFlrSF', '2ndFlrSF', 'FullBath', 'BedroomAbvGr', 'TotRmsAbvGrd']\n",
    "X = home_data[feature_columns]\n",
    "\n",
    "# Specify Model\n",
    "iowa_model = DecisionTreeRegressor()\n",
    "# Fit Model\n",
    "iowa_model.fit(X, y)\n",
    "\n",
    "print(\"First in-sample predictions:\", iowa_model.predict(X.head()))\n",
    "print(\"Actual target values for those homes:\", y.head().tolist())\n",
    "\n",
    "# Set up code checking\n",
    "from learntools.core import binder\n",
    "binder.bind(globals())\n",
    "from learntools.machine_learning.ex4 import *\n",
    "print(\"Setup Complete\")"
   ]
  },
  {
   "cell_type": "markdown",
   "id": "9f756bb4",
   "metadata": {
    "papermill": {
     "duration": 0.0036,
     "end_time": "2022-10-21T08:35:47.898883",
     "exception": false,
     "start_time": "2022-10-21T08:35:47.895283",
     "status": "completed"
    },
    "tags": []
   },
   "source": [
    "# Exercises\n",
    "\n",
    "## Step 1: Split Your Data\n",
    "Use the `train_test_split` function to split up your data.\n",
    "\n",
    "Give it the argument `random_state=1` so the `check` functions know what to expect when verifying your code.\n",
    "\n",
    "Recall, your features are loaded in the DataFrame **X** and your target is loaded in **y**.\n"
   ]
  },
  {
   "cell_type": "code",
   "execution_count": 2,
   "id": "740002d8",
   "metadata": {
    "execution": {
     "iopub.execute_input": "2022-10-21T08:35:47.908359Z",
     "iopub.status.busy": "2022-10-21T08:35:47.907952Z",
     "iopub.status.idle": "2022-10-21T08:35:47.924757Z",
     "shell.execute_reply": "2022-10-21T08:35:47.923152Z"
    },
    "papermill": {
     "duration": 0.024617,
     "end_time": "2022-10-21T08:35:47.927452",
     "exception": false,
     "start_time": "2022-10-21T08:35:47.902835",
     "status": "completed"
    },
    "tags": []
   },
   "outputs": [
    {
     "data": {
      "application/javascript": [
       "parent.postMessage({\"jupyterEvent\": \"custom.exercise_interaction\", \"data\": {\"outcomeType\": 1, \"valueTowardsCompletion\": 0.25, \"interactionType\": 1, \"questionType\": 2, \"questionId\": \"1_SplitData\", \"learnToolsVersion\": \"0.3.4\", \"failureMessage\": \"\", \"exceptionClass\": \"\", \"trace\": \"\"}}, \"*\")"
      ],
      "text/plain": [
       "<IPython.core.display.Javascript object>"
      ]
     },
     "metadata": {},
     "output_type": "display_data"
    },
    {
     "data": {
      "text/markdown": [
       "<span style=\"color:#33cc33\">Correct</span>"
      ],
      "text/plain": [
       "Correct"
      ]
     },
     "metadata": {},
     "output_type": "display_data"
    }
   ],
   "source": [
    "# Import the train_test_split function and uncomment\n",
    "from sklearn.model_selection import train_test_split as tts\n",
    "\n",
    "# fill in and uncomment\n",
    "train_X, val_X, train_y, val_y = tts(X,y,random_state=1)\n",
    "\n",
    "# Check your answer\n",
    "step_1.check()"
   ]
  },
  {
   "cell_type": "code",
   "execution_count": 3,
   "id": "b2a6d8ec",
   "metadata": {
    "execution": {
     "iopub.execute_input": "2022-10-21T08:35:47.938325Z",
     "iopub.status.busy": "2022-10-21T08:35:47.937889Z",
     "iopub.status.idle": "2022-10-21T08:35:47.942347Z",
     "shell.execute_reply": "2022-10-21T08:35:47.941413Z"
    },
    "papermill": {
     "duration": 0.012278,
     "end_time": "2022-10-21T08:35:47.944250",
     "exception": false,
     "start_time": "2022-10-21T08:35:47.931972",
     "status": "completed"
    },
    "tags": []
   },
   "outputs": [],
   "source": [
    "# The lines below will show you a hint or the solution.\n",
    "#step_1.hint() \n",
    "# step_1.solution()\n"
   ]
  },
  {
   "cell_type": "markdown",
   "id": "8e245e7a",
   "metadata": {
    "papermill": {
     "duration": 0.003938,
     "end_time": "2022-10-21T08:35:47.952607",
     "exception": false,
     "start_time": "2022-10-21T08:35:47.948669",
     "status": "completed"
    },
    "tags": []
   },
   "source": [
    "## Step 2: Specify and Fit the Model\n",
    "\n",
    "Create a `DecisionTreeRegressor` model and fit it to the relevant data.\n",
    "Set `random_state` to 1 again when creating the model."
   ]
  },
  {
   "cell_type": "code",
   "execution_count": 4,
   "id": "860e575a",
   "metadata": {
    "execution": {
     "iopub.execute_input": "2022-10-21T08:35:47.963577Z",
     "iopub.status.busy": "2022-10-21T08:35:47.962570Z",
     "iopub.status.idle": "2022-10-21T08:35:47.985973Z",
     "shell.execute_reply": "2022-10-21T08:35:47.984155Z"
    },
    "papermill": {
     "duration": 0.030879,
     "end_time": "2022-10-21T08:35:47.988369",
     "exception": false,
     "start_time": "2022-10-21T08:35:47.957490",
     "status": "completed"
    },
    "tags": []
   },
   "outputs": [
    {
     "name": "stdout",
     "output_type": "stream",
     "text": [
      "[186500. 184000. 130000.  92000. 164500. 220000. 335000. 144152. 215000.\n",
      " 262000.]\n",
      "[186500. 184000. 130000.  92000. 164500. 220000. 335000. 144152. 215000.\n",
      " 262000.]\n"
     ]
    },
    {
     "data": {
      "application/javascript": [
       "parent.postMessage({\"jupyterEvent\": \"custom.exercise_interaction\", \"data\": {\"outcomeType\": 1, \"valueTowardsCompletion\": 0.25, \"interactionType\": 1, \"questionType\": 2, \"questionId\": \"2_FitModelWithTrain\", \"learnToolsVersion\": \"0.3.4\", \"failureMessage\": \"\", \"exceptionClass\": \"\", \"trace\": \"\"}}, \"*\")"
      ],
      "text/plain": [
       "<IPython.core.display.Javascript object>"
      ]
     },
     "metadata": {},
     "output_type": "display_data"
    },
    {
     "data": {
      "text/markdown": [
       "<span style=\"color:#33cc33\">Correct</span>"
      ],
      "text/plain": [
       "Correct"
      ]
     },
     "metadata": {},
     "output_type": "display_data"
    }
   ],
   "source": [
    "# You imported DecisionTreeRegressor in your last exercise\n",
    "# and that code has been copied to the setup code above. So, no need to\n",
    "# import it again\n",
    "\n",
    "# Specify the model\n",
    "iowa_model = DecisionTreeRegressor(random_state=1)\n",
    "\n",
    "# Fit iowa_model with the training data.\n",
    "iowa_model.fit(train_X,train_y)\n",
    "\n",
    "# Check your answer\n",
    "step_2.check()"
   ]
  },
  {
   "cell_type": "code",
   "execution_count": 5,
   "id": "d7cd96bd",
   "metadata": {
    "execution": {
     "iopub.execute_input": "2022-10-21T08:35:47.998997Z",
     "iopub.status.busy": "2022-10-21T08:35:47.998668Z",
     "iopub.status.idle": "2022-10-21T08:35:48.002725Z",
     "shell.execute_reply": "2022-10-21T08:35:48.001742Z"
    },
    "papermill": {
     "duration": 0.011232,
     "end_time": "2022-10-21T08:35:48.004396",
     "exception": false,
     "start_time": "2022-10-21T08:35:47.993164",
     "status": "completed"
    },
    "tags": []
   },
   "outputs": [],
   "source": [
    "# step_2.hint()\n",
    "# step_2.solution()"
   ]
  },
  {
   "cell_type": "markdown",
   "id": "f634c00b",
   "metadata": {
    "papermill": {
     "duration": 0.004771,
     "end_time": "2022-10-21T08:35:48.013661",
     "exception": false,
     "start_time": "2022-10-21T08:35:48.008890",
     "status": "completed"
    },
    "tags": []
   },
   "source": [
    "## Step 3: Make Predictions with Validation data\n"
   ]
  },
  {
   "cell_type": "code",
   "execution_count": 6,
   "id": "2ebcfc39",
   "metadata": {
    "execution": {
     "iopub.execute_input": "2022-10-21T08:35:48.025374Z",
     "iopub.status.busy": "2022-10-21T08:35:48.024977Z",
     "iopub.status.idle": "2022-10-21T08:35:48.036829Z",
     "shell.execute_reply": "2022-10-21T08:35:48.035403Z"
    },
    "papermill": {
     "duration": 0.020537,
     "end_time": "2022-10-21T08:35:48.039452",
     "exception": false,
     "start_time": "2022-10-21T08:35:48.018915",
     "status": "completed"
    },
    "tags": []
   },
   "outputs": [
    {
     "data": {
      "application/javascript": [
       "parent.postMessage({\"jupyterEvent\": \"custom.exercise_interaction\", \"data\": {\"outcomeType\": 1, \"valueTowardsCompletion\": 0.25, \"interactionType\": 1, \"questionType\": 2, \"questionId\": \"3_ValPreds\", \"learnToolsVersion\": \"0.3.4\", \"failureMessage\": \"\", \"exceptionClass\": \"\", \"trace\": \"\"}}, \"*\")"
      ],
      "text/plain": [
       "<IPython.core.display.Javascript object>"
      ]
     },
     "metadata": {},
     "output_type": "display_data"
    },
    {
     "data": {
      "text/markdown": [
       "<span style=\"color:#33cc33\">Correct</span>"
      ],
      "text/plain": [
       "Correct"
      ]
     },
     "metadata": {},
     "output_type": "display_data"
    }
   ],
   "source": [
    "# Predict with all validation observations\n",
    "val_predictions = iowa_model.predict(val_X)\n",
    "\n",
    "# Check your answer\n",
    "step_3.check()"
   ]
  },
  {
   "cell_type": "code",
   "execution_count": 7,
   "id": "ca65f937",
   "metadata": {
    "execution": {
     "iopub.execute_input": "2022-10-21T08:35:48.051174Z",
     "iopub.status.busy": "2022-10-21T08:35:48.050059Z",
     "iopub.status.idle": "2022-10-21T08:35:48.054164Z",
     "shell.execute_reply": "2022-10-21T08:35:48.053540Z"
    },
    "papermill": {
     "duration": 0.011439,
     "end_time": "2022-10-21T08:35:48.055836",
     "exception": false,
     "start_time": "2022-10-21T08:35:48.044397",
     "status": "completed"
    },
    "tags": []
   },
   "outputs": [],
   "source": [
    "#step_3.hint()\n",
    "# step_3.solution()"
   ]
  },
  {
   "cell_type": "markdown",
   "id": "e379e50a",
   "metadata": {
    "papermill": {
     "duration": 0.004168,
     "end_time": "2022-10-21T08:35:48.064607",
     "exception": false,
     "start_time": "2022-10-21T08:35:48.060439",
     "status": "completed"
    },
    "tags": []
   },
   "source": [
    "Inspect your predictions and actual values from validation data."
   ]
  },
  {
   "cell_type": "code",
   "execution_count": 8,
   "id": "f42604fc",
   "metadata": {
    "execution": {
     "iopub.execute_input": "2022-10-21T08:35:48.074858Z",
     "iopub.status.busy": "2022-10-21T08:35:48.074560Z",
     "iopub.status.idle": "2022-10-21T08:35:48.082379Z",
     "shell.execute_reply": "2022-10-21T08:35:48.080612Z"
    },
    "papermill": {
     "duration": 0.015999,
     "end_time": "2022-10-21T08:35:48.085000",
     "exception": false,
     "start_time": "2022-10-21T08:35:48.069001",
     "status": "completed"
    },
    "tags": []
   },
   "outputs": [
    {
     "name": "stdout",
     "output_type": "stream",
     "text": [
      "[186500. 184000. 130000.  92000. 164500.]\n",
      "[231500, 179500, 122000, 84500, 142000]\n"
     ]
    }
   ],
   "source": [
    "# print the top few validation predictions\n",
    "print(iowa_model.predict(val_X.head()))\n",
    "# print the top few actual prices from validation data\n",
    "print(val_y.head().tolist())"
   ]
  },
  {
   "cell_type": "markdown",
   "id": "b8555581",
   "metadata": {
    "papermill": {
     "duration": 0.004892,
     "end_time": "2022-10-21T08:35:48.095627",
     "exception": false,
     "start_time": "2022-10-21T08:35:48.090735",
     "status": "completed"
    },
    "tags": []
   },
   "source": [
    "What do you notice that is different from what you saw with in-sample predictions (which are printed after the top code cell in this page).\n",
    "\n",
    "Do you remember why validation predictions differ from in-sample (or training) predictions? This is an important idea from the last lesson.\n",
    "\n",
    "## Step 4: Calculate the Mean Absolute Error in Validation Data\n"
   ]
  },
  {
   "cell_type": "code",
   "execution_count": 9,
   "id": "6c3d2858",
   "metadata": {
    "execution": {
     "iopub.execute_input": "2022-10-21T08:35:48.107072Z",
     "iopub.status.busy": "2022-10-21T08:35:48.106725Z",
     "iopub.status.idle": "2022-10-21T08:35:48.117300Z",
     "shell.execute_reply": "2022-10-21T08:35:48.116125Z"
    },
    "papermill": {
     "duration": 0.018658,
     "end_time": "2022-10-21T08:35:48.119362",
     "exception": false,
     "start_time": "2022-10-21T08:35:48.100704",
     "status": "completed"
    },
    "tags": []
   },
   "outputs": [
    {
     "name": "stdout",
     "output_type": "stream",
     "text": [
      "29652.931506849316\n"
     ]
    },
    {
     "data": {
      "application/javascript": [
       "parent.postMessage({\"jupyterEvent\": \"custom.exercise_interaction\", \"data\": {\"outcomeType\": 1, \"valueTowardsCompletion\": 0.25, \"interactionType\": 1, \"questionType\": 1, \"questionId\": \"4_MAE\", \"learnToolsVersion\": \"0.3.4\", \"failureMessage\": \"\", \"exceptionClass\": \"\", \"trace\": \"\"}}, \"*\")"
      ],
      "text/plain": [
       "<IPython.core.display.Javascript object>"
      ]
     },
     "metadata": {},
     "output_type": "display_data"
    },
    {
     "data": {
      "text/markdown": [
       "<span style=\"color:#33cc33\">Correct</span>"
      ],
      "text/plain": [
       "Correct"
      ]
     },
     "metadata": {},
     "output_type": "display_data"
    }
   ],
   "source": [
    "from sklearn.metrics import mean_absolute_error\n",
    "val_mae = mean_absolute_error(val_y, val_predictions)\n",
    "\n",
    "# uncomment following line to see the validation_mae\n",
    "print(val_mae)\n",
    "\n",
    "# Check your answer\n",
    "step_4.check()"
   ]
  },
  {
   "cell_type": "code",
   "execution_count": 10,
   "id": "16e1131b",
   "metadata": {
    "execution": {
     "iopub.execute_input": "2022-10-21T08:35:48.130860Z",
     "iopub.status.busy": "2022-10-21T08:35:48.130537Z",
     "iopub.status.idle": "2022-10-21T08:35:48.134684Z",
     "shell.execute_reply": "2022-10-21T08:35:48.133521Z"
    },
    "papermill": {
     "duration": 0.012478,
     "end_time": "2022-10-21T08:35:48.136970",
     "exception": false,
     "start_time": "2022-10-21T08:35:48.124492",
     "status": "completed"
    },
    "tags": []
   },
   "outputs": [],
   "source": [
    "# step_4.hint()\n",
    "# step_4.solution()"
   ]
  },
  {
   "cell_type": "markdown",
   "id": "d06991cc",
   "metadata": {
    "papermill": {
     "duration": 0.004954,
     "end_time": "2022-10-21T08:35:48.147870",
     "exception": false,
     "start_time": "2022-10-21T08:35:48.142916",
     "status": "completed"
    },
    "tags": []
   },
   "source": [
    "Is that MAE good?  There isn't a general rule for what values are good that applies across applications. But you'll see how to use (and improve) this number in the next step.\n",
    "\n",
    "# Keep Going\n",
    "\n",
    "You are ready for **[Underfitting and Overfitting](https://www.kaggle.com/dansbecker/underfitting-and-overfitting).**\n"
   ]
  },
  {
   "cell_type": "markdown",
   "id": "83e7b2e0",
   "metadata": {
    "papermill": {
     "duration": 0.004954,
     "end_time": "2022-10-21T08:35:48.157776",
     "exception": false,
     "start_time": "2022-10-21T08:35:48.152822",
     "status": "completed"
    },
    "tags": []
   },
   "source": [
    "---\n",
    "\n",
    "\n",
    "\n",
    "\n",
    "*Have questions or comments? Visit the [course discussion forum](https://www.kaggle.com/learn/intro-to-machine-learning/discussion) to chat with other learners.*"
   ]
  }
 ],
 "metadata": {
  "kernelspec": {
   "display_name": "Python 3",
   "language": "python",
   "name": "python3"
  },
  "language_info": {
   "codemirror_mode": {
    "name": "ipython",
    "version": 3
   },
   "file_extension": ".py",
   "mimetype": "text/x-python",
   "name": "python",
   "nbconvert_exporter": "python",
   "pygments_lexer": "ipython3",
   "version": "3.7.12"
  },
  "papermill": {
   "default_parameters": {},
   "duration": 11.971762,
   "end_time": "2022-10-21T08:35:51.577028",
   "environment_variables": {},
   "exception": null,
   "input_path": "__notebook__.ipynb",
   "output_path": "__notebook__.ipynb",
   "parameters": {},
   "start_time": "2022-10-21T08:35:39.605266",
   "version": "2.3.4"
  }
 },
 "nbformat": 4,
 "nbformat_minor": 5
}
